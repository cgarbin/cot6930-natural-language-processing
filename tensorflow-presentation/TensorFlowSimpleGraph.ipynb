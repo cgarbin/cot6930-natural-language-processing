{
 "cells": [
  {
   "cell_type": "markdown",
   "metadata": {},
   "source": [
    "# Sample graphs in TensorFlow"
   ]
  },
  {
   "cell_type": "markdown",
   "metadata": {},
   "source": [
    "1. Simple operation\n",
    "1. Simple regression using SGD and a simplified neuron\n",
    "1. Neural network for MNIST classification"
   ]
  },
  {
   "cell_type": "code",
   "execution_count": 2,
   "metadata": {},
   "outputs": [
    {
     "name": "stdout",
     "output_type": "stream",
     "text": [
      "1.13.1\n"
     ]
    }
   ],
   "source": [
    "import tensorflow as tf\n",
    "print(tf.__version__)"
   ]
  },
  {
   "cell_type": "markdown",
   "metadata": {},
   "source": [
    "## Simple operation"
   ]
  },
  {
   "cell_type": "markdown",
   "metadata": {},
   "source": [
    "Run the cell below between tests to clear previous data (e.g. graphs)"
   ]
  },
  {
   "cell_type": "code",
   "execution_count": 8,
   "metadata": {},
   "outputs": [],
   "source": [
    "tf.reset_default_graph()"
   ]
  },
  {
   "cell_type": "code",
   "execution_count": 9,
   "metadata": {},
   "outputs": [],
   "source": [
    "!rm -rf 'tf_logs_simple'"
   ]
  },
  {
   "cell_type": "markdown",
   "metadata": {},
   "source": [
    "Create a very simple graph."
   ]
  },
  {
   "cell_type": "code",
   "execution_count": 10,
   "metadata": {},
   "outputs": [
    {
     "name": "stdout",
     "output_type": "stream",
     "text": [
      "Result is 9.0\n"
     ]
    }
   ],
   "source": [
    "# Constants and variables\n",
    "a = tf.constant(2.0, name='a')\n",
    "b = tf.constant(2.0, name='b')\n",
    "c = tf.constant(1.0, name='c')\n",
    "\n",
    "# Operations using them\n",
    "d = tf.add(b, c, name='b_plus_c')  # d = b + c\n",
    "e = tf.add(a, c, name='a_plus_c')  # e = a + c\n",
    "# result = d * e = (b + c) * (a + c)\n",
    "result = tf.multiply(d, e, name='d_times_e')\n",
    "\n",
    "# Initialize and run the graph as a session\n",
    "init_op = tf.global_variables_initializer()\n",
    "with tf.Session() as sess:\n",
    "    sess.run(init_op)\n",
    "    # Note that we run the last operation only\n",
    "    # TensorFlow identifies the dependencies and adds them to the graph\n",
    "    sess_result = sess.run(result)\n",
    "    print(\"Result is {}\".format(sess_result))"
   ]
  },
  {
   "cell_type": "markdown",
   "metadata": {},
   "source": [
    "Save it within a session."
   ]
  },
  {
   "cell_type": "code",
   "execution_count": 11,
   "metadata": {},
   "outputs": [],
   "source": [
    "with tf.Session() as sess:\n",
    "    writer = tf.summary.FileWriter('./tf_logs_simple', sess.graph)"
   ]
  },
  {
   "cell_type": "markdown",
   "metadata": {},
   "source": [
    "Start tensorboard:\n",
    "\n",
    "1. Go to the command line\n",
    "1. Go to the directory where this notebook is\n",
    "1. Run `tensorboard --logdir tf_logs_simple`\n",
    "1. Open a browser to the (local) that tensorboard shows in the command line"
   ]
  },
  {
   "cell_type": "markdown",
   "metadata": {},
   "source": [
    "With TensorFlow 2.0 we will be able to show tensorboard inside the notebook."
   ]
  },
  {
   "cell_type": "code",
   "execution_count": 74,
   "metadata": {},
   "outputs": [],
   "source": [
    "# requires tensorflow==2\n",
    "\n",
    "# %load_ext tensorboard.notebook\n",
    "# %tensorboard --logdir graphs"
   ]
  },
  {
   "cell_type": "markdown",
   "metadata": {},
   "source": [
    "## Simple regression using SGD and a simplified neuron"
   ]
  },
  {
   "cell_type": "markdown",
   "metadata": {},
   "source": [
    "Clean up before attempting a new graph."
   ]
  },
  {
   "cell_type": "code",
   "execution_count": 27,
   "metadata": {},
   "outputs": [],
   "source": [
    "tf.reset_default_graph()"
   ]
  },
  {
   "cell_type": "code",
   "execution_count": 28,
   "metadata": {},
   "outputs": [],
   "source": [
    "!rm -rf 'tf_logs_sgd'"
   ]
  },
  {
   "cell_type": "markdown",
   "metadata": {},
   "source": [
    "Draw the graph of a simple neuron, with input, weight and output."
   ]
  },
  {
   "cell_type": "code",
   "execution_count": 29,
   "metadata": {},
   "outputs": [],
   "source": [
    "x = tf.constant(1.0, name='input')\n",
    "w = tf.Variable(0.8, name='weight')\n",
    "y = tf.multiply(w, x, name='output')"
   ]
  },
  {
   "cell_type": "code",
   "execution_count": 30,
   "metadata": {},
   "outputs": [],
   "source": [
    "# Expected value\n",
    "y_ = tf.constant(-1.0, name='correct_value')"
   ]
  },
  {
   "cell_type": "code",
   "execution_count": 31,
   "metadata": {},
   "outputs": [],
   "source": [
    "# What we are optimizing for (MSE)\n",
    "loss = tf.pow(y - y_, 2, name='loss')\n",
    "\n",
    "# And how we will optimize it (SGD)\n",
    "train_step = tf.train.GradientDescentOptimizer(0.025).minimize(loss)"
   ]
  },
  {
   "cell_type": "code",
   "execution_count": 32,
   "metadata": {},
   "outputs": [],
   "source": [
    "# Uncomment to save the graph without running the optimization\n",
    "with tf.Session() as sess:\n",
    "    writer = tf.summary.FileWriter('./tf_logs_sgd', sess.graph)"
   ]
  },
  {
   "cell_type": "code",
   "execution_count": 24,
   "metadata": {},
   "outputs": [],
   "source": [
    "# What will be tracked during traning (for Tensorboard graphs)\n",
    "for value in [x, w, y, y_, loss]:\n",
    "    tf.summary.scalar(value.op.name, value)\n",
    "\n",
    "summaries = tf.summary.merge_all()"
   ]
  },
  {
   "cell_type": "code",
   "execution_count": 26,
   "metadata": {},
   "outputs": [],
   "source": [
    "# Run the SGD optimization (y --> y_)\n",
    "sess = tf.Session()\n",
    "summary_writer = tf.summary.FileWriter('./tf_logs_sgd', sess.graph)\n",
    "\n",
    "sess.run(tf.global_variables_initializer())\n",
    "for i in range(100):\n",
    "    summary_writer.add_summary(sess.run(summaries), i)\n",
    "    sess.run(train_step)"
   ]
  },
  {
   "cell_type": "markdown",
   "metadata": {},
   "source": [
    "## Neural network for MNIST classification"
   ]
  },
  {
   "cell_type": "markdown",
   "metadata": {},
   "source": [
    "Add here example from https://adventuresinmachinelearning.com/python-tensorflow-tutorial/, bulding layer by layer"
   ]
  },
  {
   "cell_type": "code",
   "execution_count": null,
   "metadata": {},
   "outputs": [],
   "source": []
  }
 ],
 "metadata": {
  "kernelspec": {
   "display_name": "Python 3",
   "language": "python",
   "name": "python3"
  },
  "language_info": {
   "codemirror_mode": {
    "name": "ipython",
    "version": 3
   },
   "file_extension": ".py",
   "mimetype": "text/x-python",
   "name": "python",
   "nbconvert_exporter": "python",
   "pygments_lexer": "ipython3",
   "version": "3.7.2"
  }
 },
 "nbformat": 4,
 "nbformat_minor": 2
}
